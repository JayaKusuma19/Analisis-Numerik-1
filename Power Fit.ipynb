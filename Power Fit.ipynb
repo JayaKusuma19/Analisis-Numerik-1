{
 "cells": [
  {
   "cell_type": "code",
   "execution_count": 35,
   "id": "7a4e8a23",
   "metadata": {},
   "outputs": [],
   "source": [
    "import numpy as np"
   ]
  },
  {
   "cell_type": "code",
   "execution_count": 36,
   "id": "354a7843",
   "metadata": {
    "scrolled": true
   },
   "outputs": [
    {
     "name": "stdout",
     "output_type": "stream",
     "text": [
      "Diketahui Power Fit dengan bentuk y = Ax^M \n",
      "M merupakan bilangan yang telah diketahui \n",
      "Akan dicari nilai koefisien dari A\n"
     ]
    }
   ],
   "source": [
    "print(f\"Diketahui Power Fit dengan bentuk y = Ax^M \\nM merupakan bilangan yang telah diketahui \\nAkan dicari nilai koefisien dari A\")"
   ]
  },
  {
   "cell_type": "code",
   "execution_count": 26,
   "id": "fba2b932",
   "metadata": {},
   "outputs": [
    {
     "name": "stdout",
     "output_type": "stream",
     "text": [
      "Masukkan data x, dipisahkan oleh spasi : 1 2 3 4 5\n"
     ]
    }
   ],
   "source": [
    "data_x_str = input(\"Masukkan data x, dipisahkan oleh spasi : \")\n",
    "x = np.array(list(map(float, data_x_str.split())))"
   ]
  },
  {
   "cell_type": "code",
   "execution_count": 27,
   "id": "767a5914",
   "metadata": {},
   "outputs": [
    {
     "name": "stdout",
     "output_type": "stream",
     "text": [
      "Masukkan data y, dipisahkan oleh spasi : 2.5 4 5.5 8 10.5\n"
     ]
    }
   ],
   "source": [
    "data_y_str = input(\"Masukkan data y, dipisahkan oleh spasi : \")\n",
    "y = np.array(list(map(float, data_y_str.split())))"
   ]
  },
  {
   "cell_type": "code",
   "execution_count": 28,
   "id": "82413973",
   "metadata": {},
   "outputs": [
    {
     "name": "stdout",
     "output_type": "stream",
     "text": [
      "Data x: [1. 2. 3. 4. 5.]\n",
      "Data y: [ 2.5  4.   5.5  8.  10.5]\n"
     ]
    }
   ],
   "source": [
    "print(\"Data x:\", x)\n",
    "print(\"Data y:\", y)"
   ]
  },
  {
   "cell_type": "code",
   "execution_count": 29,
   "id": "f4439576",
   "metadata": {},
   "outputs": [
    {
     "name": "stdout",
     "output_type": "stream",
     "text": [
      "Masukkan nilai M: 1\n"
     ]
    }
   ],
   "source": [
    "M = float(input(\"Masukkan nilai M: \"))"
   ]
  },
  {
   "cell_type": "code",
   "execution_count": 30,
   "id": "50e33d8a",
   "metadata": {},
   "outputs": [],
   "source": [
    "result1 = np.sum(x**M * y)"
   ]
  },
  {
   "cell_type": "code",
   "execution_count": 31,
   "id": "15788279",
   "metadata": {},
   "outputs": [],
   "source": [
    "result2 = np.sum(x**(2*M))"
   ]
  },
  {
   "cell_type": "code",
   "execution_count": 32,
   "id": "bf24149e",
   "metadata": {},
   "outputs": [],
   "source": [
    "A = result1 / result2"
   ]
  },
  {
   "cell_type": "code",
   "execution_count": 37,
   "id": "565ef9e4",
   "metadata": {},
   "outputs": [
    {
     "name": "stdout",
     "output_type": "stream",
     "text": [
      "Nilai Dari A adalah: 2.0272727272727273\n"
     ]
    }
   ],
   "source": [
    "print(f\"Nilai Dari A adalah: {A}\")"
   ]
  }
 ],
 "metadata": {
  "kernelspec": {
   "display_name": "Python 3 (ipykernel)",
   "language": "python",
   "name": "python3"
  },
  "language_info": {
   "codemirror_mode": {
    "name": "ipython",
    "version": 3
   },
   "file_extension": ".py",
   "mimetype": "text/x-python",
   "name": "python",
   "nbconvert_exporter": "python",
   "pygments_lexer": "ipython3",
   "version": "3.9.13"
  }
 },
 "nbformat": 4,
 "nbformat_minor": 5
}
